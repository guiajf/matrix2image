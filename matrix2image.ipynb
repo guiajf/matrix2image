{
 "cells": [
  {
   "cell_type": "markdown",
   "id": "1aa7f75d-6cc0-4ad3-b8e9-980e2f11f0f4",
   "metadata": {},
   "source": [
    "## Representação de imagens matriciais"
   ]
  },
  {
   "cell_type": "markdown",
   "id": "bed412ab-b71e-422a-9355-5d4d4b1b3dc9",
   "metadata": {},
   "source": [
    "### Definição"
   ]
  },
  {
   "cell_type": "markdown",
   "id": "cda56730-d145-4354-a0b0-66a1a02ccf36",
   "metadata": {},
   "source": [
    "Uma imagem digital é constituída por um conjunto de pixels, representado por uma matriz bidimensional ou tridimensional, de acordo com os tipos definidos a seguir."
   ]
  },
  {
   "cell_type": "markdown",
   "id": "efebdeb6-8787-4c92-9263-e498ac18d2a6",
   "metadata": {},
   "source": [
    "### Tipos"
   ]
  },
  {
   "cell_type": "markdown",
   "id": "5d86d676-0941-406e-818e-4c741a5b3051",
   "metadata": {},
   "source": [
    "Octave suporta quatro tipos de imagens:\n",
    "\n",
    "- imagens em tons de cinza;\n",
    "- imagens binárias;\n",
    "- imagens RGB;\n",
    "- imagens indexadas."
   ]
  },
  {
   "cell_type": "markdown",
   "id": "00913bbe-434b-4138-97bc-a093af36d1a1",
   "metadata": {},
   "source": [
    "### Imagem grayscale"
   ]
  },
  {
   "cell_type": "markdown",
   "id": "e5e8fb5e-671a-4892-99b7-50681a423450",
   "metadata": {},
   "source": [
    "Uma imagem em tons de cinza (**grayscale**) é representada por uma matriz bidimensional **M x N**, em que cada elemento expressa a intensidade do pixel."
   ]
  },
  {
   "cell_type": "code",
   "execution_count": null,
   "id": "82dd4a6c-0bb9-4394-9b84-fb79ecb7067a",
   "metadata": {},
   "outputs": [],
   "source": [
    "A = [0 2 4 6 8; 10 12 14 16 18; 20 22 24 26 28];\n",
    "imagesc(A)\n",
    "colormap(gray)\n",
    "axis image % preserva a proporção da imagem"
   ]
  },
  {
   "cell_type": "markdown",
   "id": "6840884f-a6e8-472b-8269-b75b0130a49f",
   "metadata": {},
   "source": [
    "### Intermezzo"
   ]
  },
  {
   "cell_type": "markdown",
   "id": "11cf5d53-2542-46a1-b5e1-b4577481b4cf",
   "metadata": {},
   "source": [
    "A transição de tons de cinza é baseada nos valores discretos na matriz **A**."
   ]
  },
  {
   "cell_type": "code",
   "execution_count": null,
   "id": "85ecb211-c67a-45a0-ab5d-aa0a6b0f659d",
   "metadata": {},
   "outputs": [],
   "source": [
    "num_elementos = numel(A)"
   ]
  },
  {
   "cell_type": "markdown",
   "id": "2a364c6a-2e7a-47ad-9c61-e74e994f37ec",
   "metadata": {},
   "source": [
    "A matriz **A** possui apenas 15 valores distintos (em uma matriz de 3x5), o que resulta em uma imagem com transições abruptas entre os níveis de cinza."
   ]
  },
  {
   "cell_type": "markdown",
   "id": "1258adf0-7c87-4258-a933-37fee2de19dd",
   "metadata": {},
   "source": [
    " Se aumentarmos a resolução da imagem, podemos obter uma transição mais suave entre os tons de cinza."
   ]
  },
  {
   "cell_type": "code",
   "execution_count": null,
   "id": "55a30e7e-0be5-4fc2-b059-a4b198dd2304",
   "metadata": {},
   "outputs": [],
   "source": [
    "outsize = [256 512]; % [y x]\n",
    "% criamos alguns vetores\n",
    "x = linspace(0,1,outsize(2)); % linhas\n",
    "y = linspace(0,1,outsize(1)).'; % colunas\n",
    "% criamos a matriz no intervalo [0.2 0.8]\n",
    "Z = 0.2 + 0.3*(x+y);"
   ]
  },
  {
   "cell_type": "code",
   "execution_count": null,
   "id": "ed065be4-dc66-4d8b-9c3f-8c58f7e6cf98",
   "metadata": {},
   "outputs": [],
   "source": [
    "num_elementos = numel(Z)"
   ]
  },
  {
   "cell_type": "markdown",
   "id": "8707f309-ba09-4419-9790-a86a021c77a3",
   "metadata": {},
   "source": [
    "A matriz **Z** tem 131,072 valores (em uma matriz de 256x512) distribuídos suavemente, resultando em uma imagem com transições muito mais suaves entre os níveis de cinza."
   ]
  },
  {
   "cell_type": "code",
   "execution_count": null,
   "id": "df9958c5-ee4e-4a84-992b-a9d34834e73b",
   "metadata": {},
   "outputs": [],
   "source": [
    "imagesc(Z) \n",
    "caxis([0 1]) % define a escala\n",
    "colormap(gray(256)) % define o mapa de cores\n",
    "axis image % preserva a proporção da imagem"
   ]
  },
  {
   "cell_type": "markdown",
   "id": "be0c45b3-88f6-4d2b-8802-b6c0cdc3ff26",
   "metadata": {},
   "source": [
    "### Imagem binária"
   ]
  },
  {
   "cell_type": "markdown",
   "id": "edffffaf-83c5-4e15-8d73-933ec5de861d",
   "metadata": {},
   "source": [
    "A imagem **binária** é uma matriz bidimensional **M x N** da classe *logical*. Pode ser considerada um caso especial de imagens em tons de cinza, considerando apenas os dois valores extremos da escala: 0 ou preto, se falso; 1 ou branco, se verdadeiro."
   ]
  },
  {
   "cell_type": "code",
   "execution_count": null,
   "id": "985c8e94-794a-44e5-b86b-d6775bfecbe3",
   "metadata": {},
   "outputs": [],
   "source": [
    "B = eye(5);\n",
    "B = logical(B);\n",
    "imagesc(B);\n",
    "colormap gray"
   ]
  },
  {
   "cell_type": "markdown",
   "id": "4a2449fb-3519-401c-9fb6-e9065d9007c7",
   "metadata": {},
   "source": [
    "### Imagem truecolor"
   ]
  },
  {
   "cell_type": "markdown",
   "id": "00535041-2b27-4bd2-a749-ac66611b991e",
   "metadata": {},
   "source": [
    "Uma imagem **RGB** (**truecolor**) é representada por uma matriz tridimensional **M x N x 3**. Cada pixel da imagem possui uma cor, resultante da combinação da intensidade de cada um dos canais: **red** (vermelho), **green** (verde) e **blue** (azul)."
   ]
  },
  {
   "cell_type": "code",
   "execution_count": null,
   "id": "d78fb533-d045-4e95-b881-b14160840899",
   "metadata": {},
   "outputs": [],
   "source": [
    "% Criação da matriz C\n",
    "C = zeros(3,3,3);\n",
    "C(:,:,1) = [.1 .2 .3 ; .4 .5 .6; .7 .8 .9]; % vermelho\n",
    "C(:,:,2) = [.21 .22 .23; .24 .25 .26; .27 .28 .29]; % verde\n",
    "C(:,:,3) = [.31 .32 .33; .34 .35 .36; .37 .38 .39]; % azul\n",
    "\n",
    "% Exibir a imagem com imshow para imagens coloridas\n",
    "imagesc(C);"
   ]
  },
  {
   "cell_type": "markdown",
   "id": "c331a04f-b805-4616-bcf0-867a71c3f27f",
   "metadata": {},
   "source": [
    "### Imagem indexada"
   ]
  },
  {
   "cell_type": "markdown",
   "id": "08341d4b-7bb0-4822-820a-cc96505bd0e8",
   "metadata": {},
   "source": [
    "Uma imagem indexada consiste em uma matriz de inteiros **M x N** e um mapa de cores **C x 3**. Cada número inteiro corresponde a um índice no mapa de cores e cada linha no mapa de cores corresponde a uma cor **RGB**. O mapa de cores deve ser da classe *double* com valores entre 0 e 1."
   ]
  },
  {
   "cell_type": "code",
   "execution_count": null,
   "id": "2e8634f3-fa31-404c-b848-6aad22b9515b",
   "metadata": {},
   "outputs": [],
   "source": [
    "[D, map] = rgb2ind (C); % Convertemos de RGB para índice de cores\n",
    "imagesc(D);\n",
    "colormap (map)\n",
    "D\n",
    "map"
   ]
  },
  {
   "cell_type": "markdown",
   "id": "4c5b7498-b226-4e34-9d93-0cd39b92f1a5",
   "metadata": {},
   "source": [
    "Por economia de espaço, omitimos a expressão numérica da matriz **Z** e do mapa de cores, no exemplo abaixo."
   ]
  },
  {
   "cell_type": "code",
   "execution_count": null,
   "id": "370db113-04c9-4524-88f1-828ada7be0a3",
   "metadata": {},
   "outputs": [],
   "source": [
    "W = double(Z); % Garantimos que A esteja em formato de ponto flutuante\n",
    "W = W / max(W(:)); % Normalizamos a imagem para o intervalo [0, 1]\n",
    "%Z = A(1:3,2:4); % Fatiamos a matriz original para o formato 3x3\n",
    "[D, map] = gray2ind(W);\n",
    "imagesc(D);\n",
    "colormap gray"
   ]
  },
  {
   "cell_type": "markdown",
   "id": "baae5015-abb1-411e-9aa7-05d02fa3f3cd",
   "metadata": {},
   "source": [
    "### Classes"
   ]
  },
  {
   "cell_type": "markdown",
   "id": "8d563de3-709a-4e61-8e49-85ca916b3a12",
   "metadata": {},
   "source": [
    "A intensidade do pixel, para imagens em tons de cinza e RGB, depende da classe da matriz. Isto é, a escala esperada dos dados da imagem é determinada pela sua classe numérica, definida de acordo com os intervalos nominais descritos na tabela abaixo:"
   ]
  },
  {
   "cell_type": "markdown",
   "id": "cdf71a1b-2842-40d8-a0f8-7176eca63a30",
   "metadata": {},
   "source": [
    "|Tipo|Descrição|Intervalo| \n",
    "|-----|-------|------| \n",
    "|logical|Binário|0 ou 1| \n",
    "|uint8|Inteiro sem sinal de 8 bits|0-255|\n",
    "|uint16|Inteiro sem sinal de 16 bits|0-65535|\n",
    "|double|Real de dupla precisão 64 bits|0 e 1|\n"
   ]
  },
  {
   "cell_type": "markdown",
   "id": "9f62fbc6-a484-4105-90f3-7a5a9fa3de64",
   "metadata": {},
   "source": [
    "Para obtermos as classes das matrizes **A**, **B**, **C**, **D** e **Z**, definimos a seguinte função: "
   ]
  },
  {
   "cell_type": "code",
   "execution_count": null,
   "id": "3e0ec380-556f-4e11-bffe-6ad9f544a0a7",
   "metadata": {},
   "outputs": [],
   "source": [
    "function tipos = obterTipos(varargin)\n",
    "    tipos = cell(size(varargin));\n",
    "    for i = 1:nargin\n",
    "        tipos{i} = class(varargin{i});\n",
    "    end\n",
    "end\n",
    "\n",
    "obterTipos(A, B, C, D, Z)"
   ]
  },
  {
   "cell_type": "markdown",
   "id": "48335bb2-33b9-4b42-801d-95a213e40f9c",
   "metadata": {},
   "source": [
    "### Mapas de cores"
   ]
  },
  {
   "cell_type": "markdown",
   "id": "29389859-d5c9-421d-ab02-08a179bdb2bd",
   "metadata": {},
   "source": [
    "Um mapa de cores é uma matriz de valores que define as cores de objetos gráficos.<br>\n",
    "Pode ter qualquer comprimento, mas deve apresentar três colunas de largura. Na definição de *Peter Kovisi*, pode ser entendido como uma linha ou curva desenhada através de um espaço de cores tridimensional."
   ]
  },
  {
   "cell_type": "markdown",
   "id": "6fd490a7-96af-4990-b7b6-851196001da5",
   "metadata": {},
   "source": [
    "### Default"
   ]
  },
  {
   "cell_type": "markdown",
   "id": "19d08bb1-11b8-46ab-aa2a-bacf8d5906ea",
   "metadata": {},
   "source": [
    "**Viridis**, mapa de cores perceptualmente uniforme com luminância crescente monotonicamente e um arco suave e agradável em tons de azul, verde e amarelo, de acordo com a descrição de *Kenneth Moreland*, é o valor padrão adotado pelo Octave, caso não seja fornecido argumento para a função *colormap()*."
   ]
  },
  {
   "cell_type": "code",
   "execution_count": null,
   "id": "a8d5fc40-9ae9-44e4-9b8d-50e90d7a9301",
   "metadata": {},
   "outputs": [],
   "source": [
    "F = [0 2 4 6; 8 10 12 14; 16 18 20 22];\n",
    "imagesc(F)\n",
    "colorbar"
   ]
  },
  {
   "cell_type": "markdown",
   "id": "8617e338-2442-4cc1-af66-f37b37c0b28c",
   "metadata": {},
   "source": [
    "### Exemplos de opções integradas"
   ]
  },
  {
   "cell_type": "markdown",
   "id": "3da48d59-d35c-437c-a8f4-16604cf2eb42",
   "metadata": {},
   "source": [
    "Octave disponibiliza diversos mapas de cores para escolha do usuário. Lembramos, no entanto, das advertências para que seja evitado o modelo *rainbow*, considerado perceptualmente não-uniforme, com transições enganosas, contra-indicado para pessoas com deficiência visual para cores, condição conhecida como *daltonismo*."
   ]
  },
  {
   "cell_type": "markdown",
   "id": "bea02588-3fed-4f1c-aabb-1b6972279b1a",
   "metadata": {},
   "source": [
    "Exibimos a seguir alguns mapas de cores disponíveis no Octave."
   ]
  },
  {
   "cell_type": "code",
   "execution_count": null,
   "id": "2442e7d5-e3cf-4504-a33e-e4229c9151a6",
   "metadata": {},
   "outputs": [],
   "source": [
    "% Definimos a imagem\n",
    "img = [0 2 4 6; 8 10 12 14; 16 18 20 22];\n",
    "\n",
    "\n",
    "% Definimos os mapas de cores\n",
    "colormaps = {'viridis', 'prism', 'jet', 'hot', 'cool', 'spring', \n",
    "                'summer', 'autumn', 'winter', 'gray', 'bone', 'hsv'};\n",
    "\n",
    "% Criamos as imagens com a mesma escala, mas diferentes mapas de cores\n",
    "figure;\n",
    "\n",
    "for i = 1:12\n",
    "    ax = subplot(2, 6, i);\n",
    "    colormap(ax, colormaps{i});\n",
    "    imagesc(img);\n",
    "    axis off;\n",
    "    title(colormaps{i});\n",
    "end\n",
    "\n",
    "% Ajustamos o tamanho da figura para caber todos os subplots\n",
    "set(gcf, 'Position', [100, 100, 1200, 600]);\n"
   ]
  },
  {
   "cell_type": "markdown",
   "id": "fa2bfe14-ef26-446c-97d8-5c37d388321b",
   "metadata": {},
   "source": [
    "### ColorCET"
   ]
  },
  {
   "cell_type": "markdown",
   "id": "54d6afc6-7f13-4fe8-bdd3-b6cfa66d3f15",
   "metadata": {},
   "source": [
    "*ColorCET* é um conjunto de mapas de cores perceptualmente uniformes, distribuído sob a licença *Creative Commons*, criado por *Peter Kovisi*, cuja versão para Octave pode ser baixada no endereço https://colorcet.com/download/index.html."
   ]
  },
  {
   "cell_type": "code",
   "execution_count": null,
   "id": "97c001c6-fd0c-4929-b438-5ec42b61f0a6",
   "metadata": {},
   "outputs": [],
   "source": [
    "cm = colorcet('C2');\n",
    "imagesc(F)\n",
    "colorbar\n",
    "colormap(cm)"
   ]
  },
  {
   "cell_type": "markdown",
   "id": "fdeab4dc-f8d7-4a43-afd3-4aca4916bac5",
   "metadata": {},
   "source": [
    "### Transformações"
   ]
  },
  {
   "cell_type": "markdown",
   "id": "7c6a102d-0102-452a-ad9e-1b955fc0f3f0",
   "metadata": {},
   "source": [
    "Podemos realizar operações com as matrizes numéricas para produzir alterações nas imagens."
   ]
  },
  {
   "cell_type": "markdown",
   "id": "a24bbba7-f485-4a04-9d95-7c3de9778425",
   "metadata": {},
   "source": [
    "Temos a matriz original:"
   ]
  },
  {
   "cell_type": "code",
   "execution_count": null,
   "id": "5706bca4-51e5-4009-ac15-ea51159c8421",
   "metadata": {},
   "outputs": [],
   "source": [
    "G = [1 2 3; 4 5 6; 7 3 1; 4 4 4];\n",
    "imagesc(G)\n",
    "colorbar\n",
    "colormap jet"
   ]
  },
  {
   "cell_type": "markdown",
   "id": "c862f981-bd44-451f-afd8-58c99d797cb2",
   "metadata": {},
   "source": [
    "Realizamos uma transformação trigonométrica:"
   ]
  },
  {
   "cell_type": "code",
   "execution_count": null,
   "id": "4fa39078-4b97-439a-a4bd-13144996c80e",
   "metadata": {},
   "outputs": [],
   "source": [
    "G = [1 2 3; 4 5 6; 7 3 1; 4 4 4];\n",
    "G2 = G .^ cos(pi);\n",
    "imagesc(G2)\n",
    "colorbar\n",
    "colormap jet"
   ]
  },
  {
   "cell_type": "markdown",
   "id": "23182cec-6cf9-4850-8246-53b5c804746e",
   "metadata": {},
   "source": [
    "Em seguida efetuamos uma transformação geométrica:"
   ]
  },
  {
   "cell_type": "code",
   "execution_count": null,
   "id": "8fa78745-92b5-4f51-9bc9-fa82df67955d",
   "metadata": {},
   "outputs": [],
   "source": [
    "G3 = G .^ 2;\n",
    "imagesc(G3)\n",
    "colorbar\n",
    "colormap jet"
   ]
  },
  {
   "cell_type": "markdown",
   "id": "603d9f83-52d4-42c7-8e76-71982ea5e57c",
   "metadata": {},
   "source": [
    "Finalizamos com uma transformação espacial:"
   ]
  },
  {
   "cell_type": "code",
   "execution_count": null,
   "id": "39e299e7-8db1-4859-89df-f1072d4d0717",
   "metadata": {},
   "outputs": [],
   "source": [
    "G4 = fliplr(G);\n",
    "imagesc(G4)\n",
    "colorbar\n",
    "colormap jet"
   ]
  },
  {
   "cell_type": "markdown",
   "id": "dec17b24-ebf3-4077-88e7-ce39a99bea59",
   "metadata": {},
   "source": [
    "**Referências**:\n",
    "\n",
    "\n",
    "Eaton, John W., Bateman, David , Hauberg, Søren, Wehbring, Rik (2024). GNU Octave version 9.2.0 manual: a high-level interactive language for numerical computations.\n",
    "\n",
    "Kovesi, Peter (2015). Good Colour Maps: How to Design Them.\n",
    "arXiv:1509.03700 [cs.GR].\n",
    "\n",
    "Kovesi, Peter (2024). *ColorCET - Perceptually Uniform Colour Maps*. Acessado em 06/08/2024: https://colorcet.com/.\n",
    "\n",
    "Moreland, Kenneth (2016). *Why We Use Bad Color Maps and What You Can Do About It.* In Proceedings of Human Vision and Electronic Imaging (HVEI), February 2016. DOI 10.2352/ISSN.2470-1173.2016.16.HVEI-133.<br>\n",
    "\n",
    "Moreland, Kenneth (2016). *Color Map Advice for Scientific Visualization*. Acessado em 06/08/2024: https://www.kennethmoreland.com/color-advice/. "
   ]
  }
 ],
 "metadata": {
  "kernelspec": {
   "display_name": "Octave",
   "language": "octave",
   "name": "octave"
  },
  "language_info": {
   "file_extension": ".m",
   "help_links": [
    {
     "text": "GNU Octave",
     "url": "https://www.gnu.org/software/octave/support.html"
    },
    {
     "text": "Octave Kernel",
     "url": "https://github.com/Calysto/octave_kernel"
    },
    {
     "text": "MetaKernel Magics",
     "url": "https://metakernel.readthedocs.io/en/latest/source/README.html"
    }
   ],
   "mimetype": "text/x-octave",
   "name": "octave",
   "version": "6.4.0"
  }
 },
 "nbformat": 4,
 "nbformat_minor": 5
}
